{
 "cells": [
  {
   "cell_type": "code",
   "execution_count": null,
   "id": "0edff049",
   "metadata": {},
   "outputs": [
    {
     "name": "stdout",
     "output_type": "stream",
     "text": [
      " * Serving Flask app '__main__' (lazy loading)\n",
      " * Environment: production\n",
      "\u001b[31m   WARNING: This is a development server. Do not use it in a production deployment.\u001b[0m\n",
      "\u001b[2m   Use a production WSGI server instead.\u001b[0m\n",
      " * Debug mode: off\n"
     ]
    },
    {
     "name": "stderr",
     "output_type": "stream",
     "text": [
      " * Running on http://127.0.0.1:5000 (Press CTRL+C to quit)\n"
     ]
    }
   ],
   "source": [
    "import warnings\n",
    "warnings.filterwarnings('always')\n",
    "warnings.filterwarnings('ignore')\n",
    "\n",
    "from flask import Flask,request, url_for, redirect, render_template\n",
    "import pickle\n",
    "import numpy as np\n",
    "import flask\n",
    "\n",
    "app = Flask(__name__)\n",
    "\n",
    "model=pickle.load(open('model.pkl','rb'))\n",
    "\n",
    "\n",
    "import os\n",
    "from flask import Flask, redirect, jsonify, request, url_for, render_template, flash\n",
    "\n",
    "\n",
    "app.config[\"IMAGE_UPLOADS\"] = r\"C:\\Users\\Sakshi T\\Desktop\\Project Final Year\\Grading\\input\"\n",
    "\n",
    "\n",
    "@app.route(\"/\")\n",
    "def home():\n",
    "    return render_template(\"areca.html\")\n",
    "\n",
    "\n",
    "# Route to upload image\n",
    "@app.route('/upload-image', methods=['GET', 'POST'])\n",
    "def upload_image():\n",
    "    if request.method == \"POST\":\n",
    "        if request.files:\n",
    "            image = request.files[\"image\"]\n",
    "            # print(image + \"Uploaded to Faces\")\n",
    "            # flash('Image successfully Uploaded to Faces.')\n",
    "            image.save(os.path.join(app.config[\"IMAGE_UPLOADS\"], image.filename))\n",
    "            filename = os.path.join(app.config[\"IMAGE_UPLOADS\"], image.filename)\n",
    "            print(\"stored as:\" + filename)\n",
    "            return render_template(\"areca.html\", uploaded_image=filename)\n",
    "    return render_template(\"areca.html\")\n",
    "\n",
    "\n",
    "if __name__ == \"__main__\":\n",
    "    app.run()\n",
    "\n"
   ]
  },
  {
   "cell_type": "code",
   "execution_count": null,
   "id": "731082b3",
   "metadata": {},
   "outputs": [],
   "source": []
  }
 ],
 "metadata": {
  "kernelspec": {
   "display_name": "Python 3 (ipykernel)",
   "language": "python",
   "name": "python3"
  },
  "language_info": {
   "codemirror_mode": {
    "name": "ipython",
    "version": 3
   },
   "file_extension": ".py",
   "mimetype": "text/x-python",
   "name": "python",
   "nbconvert_exporter": "python",
   "pygments_lexer": "ipython3",
   "version": "3.7.13"
  }
 },
 "nbformat": 4,
 "nbformat_minor": 5
}
